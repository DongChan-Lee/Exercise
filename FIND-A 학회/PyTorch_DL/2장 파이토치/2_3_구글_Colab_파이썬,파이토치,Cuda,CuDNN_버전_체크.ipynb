{
  "nbformat": 4,
  "nbformat_minor": 0,
  "metadata": {
    "colab": {
      "name": "2.3 구글 Colab에서 파이썬, 파이토치, Cuda, Cudnn 버젼 체크하기.ipynb",
      "provenance": [],
      "collapsed_sections": []
    },
    "kernelspec": {
      "name": "python3",
      "display_name": "Python 3"
    },
    "accelerator": "GPU"
  },
  "cells": [
    {
      "cell_type": "markdown",
      "metadata": {
        "id": "f7YmBvnLoStR"
      },
      "source": [
        "# Installation\n",
        "\n",
        "- 파이썬 버전 체크 (Python version Check)\n",
        "- 파이토치 설치 (PyTorch Installation)\n",
        "- 쿠다 및 CuDNN 체크 (Cuda & CuDNN Check)"
      ]
    },
    {
      "cell_type": "markdown",
      "metadata": {
        "id": "06f_Mo-IqpAK"
      },
      "source": [
        "## 1. Python Version Check\n",
        "파이썬 버전 체크"
      ]
    },
    {
      "cell_type": "code",
      "metadata": {
        "colab": {
          "base_uri": "https://localhost:8080/"
        },
        "id": "StJG_AXLK4bs",
        "outputId": "09989d0d-dcf7-4eb2-e950-cbfb04138384"
      },
      "source": [
        "from google.colab import drive\n",
        "drive.mount('/content/drive')"
      ],
      "execution_count": 2,
      "outputs": [
        {
          "output_type": "stream",
          "text": [
            "Mounted at /content/drive\n"
          ],
          "name": "stdout"
        }
      ]
    },
    {
      "cell_type": "code",
      "metadata": {
        "id": "RKr8deu5qQxV",
        "colab": {
          "base_uri": "https://localhost:8080/"
        },
        "outputId": "1032c772-2c7d-4652-a259-4bdd5039616e"
      },
      "source": [
        "import sys\n",
        "print(sys.version)"
      ],
      "execution_count": 3,
      "outputs": [
        {
          "output_type": "stream",
          "text": [
            "3.7.10 (default, May  3 2021, 02:48:31) \n",
            "[GCC 7.5.0]\n"
          ],
          "name": "stdout"
        }
      ]
    },
    {
      "cell_type": "markdown",
      "metadata": {
        "id": "fHDAz4Y1qtQR"
      },
      "source": [
        "## 2. PyTorch Installation\n",
        "- 구글 콜라브 버전에 따라 파이토치가 설치되어 있을 수도 있고 아닐 수도 있음\n",
        "- 설치가 안 되어 있을 경우 아래와 같은 명령어로 설치\n",
        "- !pip3 install torch torchvision"
      ]
    },
    {
      "cell_type": "code",
      "metadata": {
        "id": "MjXpmFmsoNir"
      },
      "source": [
        "import torch"
      ],
      "execution_count": 4,
      "outputs": []
    },
    {
      "cell_type": "code",
      "metadata": {
        "id": "Ca5b9q88oNu_",
        "colab": {
          "base_uri": "https://localhost:8080/"
        },
        "outputId": "6952b154-93d3-4853-8108-fc0fcf4d8c7a"
      },
      "source": [
        "!pip3 install torch torchvision"
      ],
      "execution_count": 5,
      "outputs": [
        {
          "output_type": "stream",
          "text": [
            "Requirement already satisfied: torch in /usr/local/lib/python3.7/dist-packages (1.8.1+cu101)\n",
            "Requirement already satisfied: torchvision in /usr/local/lib/python3.7/dist-packages (0.9.1+cu101)\n",
            "Requirement already satisfied: numpy in /usr/local/lib/python3.7/dist-packages (from torch) (1.19.5)\n",
            "Requirement already satisfied: typing-extensions in /usr/local/lib/python3.7/dist-packages (from torch) (3.7.4.3)\n",
            "Requirement already satisfied: pillow>=4.1.1 in /usr/local/lib/python3.7/dist-packages (from torchvision) (7.1.2)\n"
          ],
          "name": "stdout"
        }
      ]
    },
    {
      "cell_type": "markdown",
      "metadata": {
        "id": "qI5zft-7r-G5"
      },
      "source": [
        "## 3. Cuda & cuDNN Version Check\n",
        "- 파이토치를 통해 각각 몇 버전이 설치되어 있는지 확인"
      ]
    },
    {
      "cell_type": "code",
      "metadata": {
        "id": "SWzr0ZYuoAx3",
        "colab": {
          "base_uri": "https://localhost:8080/"
        },
        "outputId": "85392d5d-6af6-48ae-c516-52add987ad8d"
      },
      "source": [
        "import torch\n",
        "\n",
        "print(\"Torch version: {}\".format(torch.__version__))\n",
        "print(\"cuda version: {}\".format(torch.version.cuda))\n",
        "print(\"cuDNN version: {}\".format(torch.backends.cudnn.version()))"
      ],
      "execution_count": 7,
      "outputs": [
        {
          "output_type": "stream",
          "text": [
            "Torch version: 1.8.1+cu101\n",
            "cuda version: 10.1\n",
            "cuDNN version: 7603\n"
          ],
          "name": "stdout"
        }
      ]
    },
    {
      "cell_type": "markdown",
      "metadata": {
        "id": "HPs2iVjbsaHb"
      },
      "source": [
        "## 4. Command Line Cuda & cuDNN Check\n",
        "- Cuda 및 CuDNN 버전은 Command Line 명령어로도 확인 가능"
      ]
    },
    {
      "cell_type": "code",
      "metadata": {
        "id": "rr-joKu0sGf5",
        "colab": {
          "base_uri": "https://localhost:8080/"
        },
        "outputId": "947f01b2-1be9-40f6-8173-91e007d566a3"
      },
      "source": [
        "!nvcc --version"
      ],
      "execution_count": 8,
      "outputs": [
        {
          "output_type": "stream",
          "text": [
            "nvcc: NVIDIA (R) Cuda compiler driver\n",
            "Copyright (c) 2005-2020 NVIDIA Corporation\n",
            "Built on Wed_Jul_22_19:09:09_PDT_2020\n",
            "Cuda compilation tools, release 11.0, V11.0.221\n",
            "Build cuda_11.0_bu.TC445_37.28845127_0\n"
          ],
          "name": "stdout"
        }
      ]
    },
    {
      "cell_type": "code",
      "metadata": {
        "id": "7ZMgAzL3sPQ6",
        "colab": {
          "base_uri": "https://localhost:8080/"
        },
        "outputId": "01eac5b8-3c3f-46a3-ad7b-bcc584136e07"
      },
      "source": [
        "!cat /usr/include/x86_64-linux-gnu/cudnn_v*.h | grep CUDNN_MAJOR -A 2"
      ],
      "execution_count": 9,
      "outputs": [
        {
          "output_type": "stream",
          "text": [
            "#define CUDNN_MAJOR 7\n",
            "#define CUDNN_MINOR 6\n",
            "#define CUDNN_PATCHLEVEL 5\n",
            "--\n",
            "#define CUDNN_VERSION (CUDNN_MAJOR * 1000 + CUDNN_MINOR * 100 + CUDNN_PATCHLEVEL)\n",
            "\n",
            "#include \"driver_types.h\"\n",
            "--\n",
            "#define CUDNN_MAJOR 8\n",
            "#define CUDNN_MINOR 0\n",
            "#define CUDNN_PATCHLEVEL 4\n",
            "--\n",
            "#define CUDNN_VERSION (CUDNN_MAJOR * 1000 + CUDNN_MINOR * 100 + CUDNN_PATCHLEVEL)\n",
            "\n",
            "#endif /* CUDNN_VERSION_H */\n"
          ],
          "name": "stdout"
        }
      ]
    },
    {
      "cell_type": "markdown",
      "metadata": {
        "id": "rPvgso5LuCWF"
      },
      "source": [
        "# 5. PyTorch CPU & GPU Tensor Check\n",
        "- 파이토치 텐서를 생성해봄으로써 제대로 설치 되었는지, 잘 동작하는지 확인"
      ]
    },
    {
      "cell_type": "markdown",
      "metadata": {
        "id": "pBgm1epHwTSA"
      },
      "source": [
        "### 5-1 Create CPU tensor"
      ]
    },
    {
      "cell_type": "code",
      "metadata": {
        "id": "2nZVqGHxt_8D",
        "colab": {
          "base_uri": "https://localhost:8080/"
        },
        "outputId": "18242394-fc65-4fdd-a4e8-5a5d6c091dda"
      },
      "source": [
        "# https://pytorch.org/docs/stable/torch.html?highlight=tensor#torch.tensor\n",
        "# 0으로 된 2 x 3 형태의 텐서 생성\n",
        "\n",
        "cpu_tensor = torch.zeros(2,3)\n",
        "print(cpu_tensor)"
      ],
      "execution_count": 10,
      "outputs": [
        {
          "output_type": "stream",
          "text": [
            "tensor([[0., 0., 0.],\n",
            "        [0., 0., 0.]])\n"
          ],
          "name": "stdout"
        }
      ]
    },
    {
      "cell_type": "markdown",
      "metadata": {
        "id": "kCxV8pxHwZc6"
      },
      "source": [
        "### 5-2 Allocate tensor on GPU"
      ]
    },
    {
      "cell_type": "code",
      "metadata": {
        "id": "uyDZg5BbuSe9",
        "colab": {
          "base_uri": "https://localhost:8080/"
        },
        "outputId": "86668d8a-186d-4fa5-a07c-ab900b60a80a"
      },
      "source": [
        "# https://pytorch.org/docs/stable/tensor_attributes.html#torch.torch.device\n",
        "# 어느 장치(CPU 혹은 GPU)에 텐서를 올릴지 지정\n",
        "# torch.device 함수를 사용하여 GPU로 장치를 지정\n",
        "device = torch.device('cuda')\n",
        "\n",
        "# https://pytorch.org/docs/stable/cuda.html?highlight=available#torch.cuda.is_available\n",
        "# GPU가 사용 가능한지 확인\n",
        "if torch.cuda.is_available():  \n",
        "  # https://pytorch.org/docs/stable/tensors.html?highlight=#torch.Tensor.to\n",
        "  # CPU에 있었던 텐서를 to 함수를 이용해 지정해놓은 장치(여기서는 GPU)로 올리기\n",
        "  gpu_tensor = cpu_tensor.to(device)\n",
        "  print(gpu_tensor)"
      ],
      "execution_count": 11,
      "outputs": [
        {
          "output_type": "stream",
          "text": [
            "tensor([[0., 0., 0.],\n",
            "        [0., 0., 0.]], device='cuda:0')\n"
          ],
          "name": "stdout"
        }
      ]
    },
    {
      "cell_type": "markdown",
      "metadata": {
        "id": "cKRTa76_wiGA"
      },
      "source": [
        "### 5-3 Reallocate tensor back on CPU"
      ]
    },
    {
      "cell_type": "code",
      "metadata": {
        "id": "9NIT1b6vvf8a",
        "colab": {
          "base_uri": "https://localhost:8080/"
        },
        "outputId": "e0c325b5-cbae-4244-9602-fa7b84217eed"
      },
      "source": [
        "# device 함수와 to 함수를 이용해 GPU에 있던 텐서를 다시 CPU로 옮기기\n",
        "cpu_tensor_back = gpu_tensor.to(torch.device('cpu'))\n",
        "cpu_tensor_back"
      ],
      "execution_count": 12,
      "outputs": [
        {
          "output_type": "execute_result",
          "data": {
            "text/plain": [
              "tensor([[0., 0., 0.],\n",
              "        [0., 0., 0.]])"
            ]
          },
          "metadata": {
            "tags": []
          },
          "execution_count": 12
        }
      ]
    },
    {
      "cell_type": "code",
      "metadata": {
        "id": "IO79CKh9DdUb"
      },
      "source": [
        ""
      ],
      "execution_count": null,
      "outputs": []
    }
  ]
}