{
 "cells": [
  {
   "cell_type": "markdown",
   "metadata": {
    "id": "YVRrHBx9e6rr"
   },
   "source": [
    "# 단순한 기울기 계산 \n",
    "\n",
    "- z = 2x^2 + 3\n",
    "\n"
   ]
  },
  {
   "cell_type": "code",
   "execution_count": 1,
   "metadata": {
    "colab": {
     "base_uri": "https://localhost:8080/"
    },
    "id": "Cy8X-XnTe7sI",
    "outputId": "bbc05085-dc91-4c77-cf22-3a76c85476cb"
   },
   "outputs": [
    {
     "data": {
      "text/plain": [
       "tensor([[2.5799e-08, 3.0866e-41, 3.7835e-44],\n",
       "        [0.0000e+00,        nan, 3.0866e-41]])"
      ]
     },
     "execution_count": 1,
     "metadata": {
      "tags": []
     },
     "output_type": "execute_result"
    }
   ],
   "source": [
    "# 2 x 3 shape의 tensor 생성\n",
    "# tensor 안에는 임의의 난수가 들어감\n",
    "\n",
    "import torch\n",
    "X = torch.Tensor(2, 3)\n",
    "X"
   ]
  },
  {
   "cell_type": "code",
   "execution_count": 2,
   "metadata": {
    "colab": {
     "base_uri": "https://localhost:8080/"
    },
    "id": "CDhGz8egKsOS",
    "outputId": "32cd458a-cee8-456d-e212-b2a3811b8d93"
   },
   "outputs": [
    {
     "data": {
      "text/plain": [
       "tensor([[1, 2, 3],\n",
       "        [4, 5, 6]])"
      ]
     },
     "execution_count": 2,
     "metadata": {
      "tags": []
     },
     "output_type": "execute_result"
    }
   ],
   "source": [
    "# tensor를 원하는 값으로 초기화하려면 인수로 값의 배열을 전달\n",
    "\n",
    "X = torch.tensor([[1, 2, 3], [4, 5, 6]])\n",
    "X"
   ]
  },
  {
   "cell_type": "code",
   "execution_count": 3,
   "metadata": {
    "id": "84i6uWfmPAF-"
   },
   "outputs": [],
   "source": [
    "# x를 [2.0, 3.0]의 값을 가진 텐서로 초기화하고 기울기 계산을 True로 설정\n",
    "# 텐서에 대한 기울기를 저장하고 싶을 때 requires_grad = True로 설정\n",
    "\n",
    "x = torch.tensor(data=[2.0, 3.0], requires_grad = True)\n",
    "y = x ** 2\n",
    "z = 2 * y + 3    # 기울기 계산을 True로 지정했으므로 z에 연산 그래프의 결과값이 저장됨"
   ]
  },
  {
   "cell_type": "code",
   "execution_count": 4,
   "metadata": {
    "colab": {
     "base_uri": "https://localhost:8080/"
    },
    "id": "7w2ICdpOMiwg",
    "outputId": "7408a9fd-d8af-4623-d27e-6bcec744d5f0"
   },
   "outputs": [
    {
     "data": {
      "text/plain": [
       "tensor([2., 3.], requires_grad=True)"
      ]
     },
     "execution_count": 4,
     "metadata": {
      "tags": []
     },
     "output_type": "execute_result"
    }
   ],
   "source": [
    "x"
   ]
  },
  {
   "cell_type": "code",
   "execution_count": 5,
   "metadata": {
    "colab": {
     "base_uri": "https://localhost:8080/"
    },
    "id": "BULYvMr4MkFj",
    "outputId": "22ba0fcb-50de-4b65-8f52-34e1bb188aa3"
   },
   "outputs": [
    {
     "data": {
      "text/plain": [
       "tensor([4., 9.], grad_fn=<PowBackward0>)"
      ]
     },
     "execution_count": 5,
     "metadata": {
      "tags": []
     },
     "output_type": "execute_result"
    }
   ],
   "source": [
    "y"
   ]
  },
  {
   "cell_type": "code",
   "execution_count": 6,
   "metadata": {
    "colab": {
     "base_uri": "https://localhost:8080/"
    },
    "id": "mGMtO4XLMlZP",
    "outputId": "ef9700fd-9fd9-4698-da81-b47d3b23eac3"
   },
   "outputs": [
    {
     "data": {
      "text/plain": [
       "tensor([11., 21.], grad_fn=<AddBackward0>)"
      ]
     },
     "execution_count": 6,
     "metadata": {
      "tags": []
     },
     "output_type": "execute_result"
    }
   ],
   "source": [
    "z"
   ]
  },
  {
   "cell_type": "markdown",
   "metadata": {
    "id": "HyfRXCf_RZH5"
   },
   "source": [
    "- autograd.backward() 참고 : https://pytorch.org/docs/stable/autograd.html?highlight=backward#torch.autograd.backward"
   ]
  },
  {
   "cell_type": "code",
   "execution_count": 7,
   "metadata": {
    "id": "vMvOPaVGet2q"
   },
   "outputs": [],
   "source": [
    "# 목표값 지정\n",
    "\n",
    "target = torch.tensor([3.0, 4.0])"
   ]
  },
  {
   "cell_type": "code",
   "execution_count": 8,
   "metadata": {
    "colab": {
     "base_uri": "https://localhost:8080/"
    },
    "id": "8CAKpBBSNK89",
    "outputId": "81d0a6c2-1363-410b-c929-544cef0799cf"
   },
   "outputs": [
    {
     "data": {
      "text/plain": [
       "tensor(25., grad_fn=<SumBackward0>)"
      ]
     },
     "execution_count": 8,
     "metadata": {
      "tags": []
     },
     "output_type": "execute_result"
    }
   ],
   "source": [
    "# z와 목표값의 절대값 차이를 계산\n",
    "# backward는 스칼라 값에 대해 동작하므로 길이 2짜리 텐서인 loss를 torch.sum을 통해 스칼라 값으로 변경\n",
    "\n",
    "loss = torch.sum(torch.abs(z - target))\n",
    "loss"
   ]
  },
  {
   "cell_type": "code",
   "execution_count": 9,
   "metadata": {
    "id": "JlBFiibKNV1F"
   },
   "outputs": [],
   "source": [
    "# 스칼라 값이 된 loss에 대해 backward를 적용\n",
    "\n",
    "loss.backward()"
   ]
  },
  {
   "cell_type": "code",
   "execution_count": 10,
   "metadata": {
    "colab": {
     "base_uri": "https://localhost:8080/"
    },
    "id": "4gkG6n4mOmcu",
    "outputId": "2d9f08bb-00cc-4243-c458-3cf7fe798622"
   },
   "outputs": [
    {
     "name": "stdout",
     "output_type": "stream",
     "text": [
      "tensor([ 8., 12.]) None None\n"
     ]
    },
    {
     "name": "stderr",
     "output_type": "stream",
     "text": [
      "/usr/local/lib/python3.7/dist-packages/ipykernel_launcher.py:2: UserWarning: The .grad attribute of a Tensor that is not a leaf Tensor is being accessed. Its .grad attribute won't be populated during autograd.backward(). If you indeed want the gradient for a non-leaf Tensor, use .retain_grad() on the non-leaf Tensor. If you access the non-leaf Tensor by mistake, make sure you access the leaf Tensor instead. See github.com/pytorch/pytorch/pull/30531 for more informations.\n",
      "  \n"
     ]
    }
   ],
   "source": [
    "# 여기서 y와 z는 기울기가 None으로 나오는데 이는 x, y, z중에 x만이 leaf node이기 때문\n",
    "print(x.grad, y.grad, z.grad)"
   ]
  },
  {
   "cell_type": "markdown",
   "metadata": {
    "id": "53kMcgljR-yB"
   },
   "source": [
    "- loss.backward() 함수를 호출하면 연산 그래프를 따라가며 잎 노드(leaf node) x에 대한 기울기를 계산함\n",
    "- 잎 노드(leaf node) : **다른 변수를 통해 계산되는 y나 z가 아니라 그 자체가 값인 x 같은 노드**를 의미"
   ]
  },
  {
   "cell_type": "code",
   "execution_count": 10,
   "metadata": {
    "id": "TcMR-USL7rvy"
   },
   "outputs": [],
   "source": []
  }
 ],
 "metadata": {
  "colab": {
   "collapsed_sections": [],
   "name": "3.3.1_기울기_계산.ipynb",
   "provenance": []
  },
  "kernelspec": {
   "display_name": "Python 3",
   "language": "python",
   "name": "python3"
  },
  "language_info": {
   "codemirror_mode": {
    "name": "ipython",
    "version": 3
   },
   "file_extension": ".py",
   "mimetype": "text/x-python",
   "name": "python",
   "nbconvert_exporter": "python",
   "pygments_lexer": "ipython3",
   "version": "3.8.5"
  }
 },
 "nbformat": 4,
 "nbformat_minor": 1
}
