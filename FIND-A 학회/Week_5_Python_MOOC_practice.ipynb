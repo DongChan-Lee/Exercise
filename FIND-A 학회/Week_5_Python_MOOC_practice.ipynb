{
 "cells": [
  {
   "cell_type": "markdown",
   "metadata": {},
   "source": [
    "# 62강"
   ]
  },
  {
   "cell_type": "markdown",
   "metadata": {},
   "source": [
    "### CSV 파일 읽기"
   ]
  },
  {
   "cell_type": "code",
   "execution_count": 12,
   "metadata": {},
   "outputs": [
    {
     "name": "stdout",
     "output_type": "stream",
     "text": [
      "Header : ['customerNumber', 'customerName', 'contactLastName', 'contactFirstName', 'phone', 'addressLine1', 'addressLine2', 'city', 'state', 'postalCode', 'country', 'salesRepEmployeeNumber', 'creditLimit\\n']\n",
      "Data 0 : ['103', '\"Atelier graphique\"', 'Schmitt', '\"Carine \"', '40.32.2555', '\"54', ' rue Royale\"', 'NULL', 'Nantes', 'NULL', '44000', 'France', '1370', '21000\\n']\n",
      "\n",
      "Data 1 : ['112', '\"Signal Gift Stores\"', 'King', 'Jean', '7025551838', '\"8489 Strong St.\"', 'NULL', '\"Las Vegas\"', 'NV', '83030', 'USA', '1166', '71800\\n']\n",
      "\n",
      "Data 2 : ['114', '\"Australian Collectors', ' Co.\"', 'Ferguson', 'Peter', '\"03 9520 4555\"', '\"636 St Kilda Road\"', '\"Level 3\"', 'Melbourne', 'Victoria', '3004', 'Australia', '1611', '117300\\n']\n",
      "\n",
      "Data 3 : ['119', '\"La Rochelle Gifts\"', 'Labrune', '\"Janine \"', '40.67.8555', '\"67', ' rue des Cinquante Otages\"', 'NULL', 'Nantes', 'NULL', '44000', 'France', '1370', '118200\\n']\n",
      "\n",
      "Data 4 : ['121', '\"Baane Mini Imports\"', 'Bergulfsen', '\"Jonas \"', '\"07-98 9555\"', '\"Erling Skakkes gate 78\"', 'NULL', 'Stavern', 'NULL', '4110', 'Norway', '1504', '81700\\n']\n",
      "\n",
      "Data 5 : ['124', '\"Mini Gifts Distributors Ltd.\"', 'Nelson', 'Susan', '4155551450', '\"5677 Strong St.\"', 'NULL', '\"San Rafael\"', 'CA', '97562', 'USA', '1165', '210500\\n']\n",
      "\n",
      "Data 6 : ['125', '\"Havel & Zbyszek Co\"', 'Piestrzeniewicz', '\"Zbyszek \"', '\"(26) 642-7555\"', '\"ul. Filtrowa 68\"', 'NULL', 'Warszawa', 'NULL', '01-012', 'Poland', 'NULL', '0\\n']\n",
      "\n",
      "Data 7 : ['128', '\"Blauer See Auto', ' Co.\"', 'Keitel', 'Roland', '\"+49 69 66 90 2555\"', '\"Lyonerstr. 34\"', 'NULL', 'Frankfurt', 'NULL', '60528', 'Germany', '1504', '59700\\n']\n",
      "\n",
      "Data 8 : ['129', '\"Mini Wheels Co.\"', 'Murphy', 'Julie', '6505555787', '\"5557 North Pendale Street\"', 'NULL', '\"San Francisco\"', 'CA', '94217', 'USA', '1165', '64600\\n']\n",
      "\n",
      "Data 9 : ['131', '\"Land of Toys Inc.\"', 'Lee', 'Kwai', '2125557818', '\"897 Long Airport Avenue\"', 'NULL', 'NYC', 'NY', '10022', 'USA', '1323', '114900\\n']\n",
      "\n",
      "122\n"
     ]
    }
   ],
   "source": [
    "line_counter = 0       # 파일의 총 줄수를 세는 변수\n",
    "data_header = []       # data의 필드값을 저장하는 list\n",
    "customer_list = []     # customer 개별 List를 저정하는 List\n",
    "\n",
    "with open(\"customers.csv\") as customer_data:      # customer.csv 파일을 customer_data 객체에 저장\n",
    "    while 1:\n",
    "        data = customer_data.readline()           # customer.csv에 한줄씩 data 변수에 저장\n",
    "        if not data: break                       # 데이터가 없을 때, Loop 종료\n",
    "        if line_counter == 0:\n",
    "            data_header = data.split(\",\")         # 첫 번째 데이터인 데이터의 필드는 data_header List에 저장, 데이터 저장시 \",\"로 분리\n",
    "        else:\n",
    "            customer_list.append(data.split(\",\")) # 일반 데이터는 customer_list 객체에 저장, 데이터 저장시 \",\"로 분리\n",
    "        line_counter += 1\n",
    "\n",
    "print(\"Header :\", data_header) # 데이터 필드 값 출력\n",
    "for i in range(0, 10):           # 데이터 출력 (샘플 10개만)\n",
    "    print(\"Data\",i,\":\",customer_list[i])\n",
    "    print()\n",
    "print(len(customer_list)) # 전체 데이터 크기 출력"
   ]
  },
  {
   "cell_type": "markdown",
   "metadata": {},
   "source": [
    "### CSV 파일 쓰기"
   ]
  },
  {
   "cell_type": "code",
   "execution_count": 13,
   "metadata": {},
   "outputs": [
    {
     "name": "stdout",
     "output_type": "stream",
     "text": [
      "Header : ['customerNumber', 'customerName', 'contactLastName', 'contactFirstName', 'phone', 'addressLine1', 'addressLine2', 'city', 'state', 'postalCode', 'country', 'salesRepEmployeeNumber', 'creditLimit\\n']\n",
      "Data 0 : ['112', '\"Signal Gift Stores\"', 'King', 'Jean', '7025551838', '\"8489 Strong St.\"', 'NULL', '\"Las Vegas\"', 'NV', '83030', 'USA', '1166', '71800\\n']\n",
      "Data 1 : ['124', '\"Mini Gifts Distributors Ltd.\"', 'Nelson', 'Susan', '4155551450', '\"5677 Strong St.\"', 'NULL', '\"San Rafael\"', 'CA', '97562', 'USA', '1165', '210500\\n']\n",
      "Data 2 : ['129', '\"Mini Wheels Co.\"', 'Murphy', 'Julie', '6505555787', '\"5557 North Pendale Street\"', 'NULL', '\"San Francisco\"', 'CA', '94217', 'USA', '1165', '64600\\n']\n",
      "Data 3 : ['131', '\"Land of Toys Inc.\"', 'Lee', 'Kwai', '2125557818', '\"897 Long Airport Avenue\"', 'NULL', 'NYC', 'NY', '10022', 'USA', '1323', '114900\\n']\n",
      "Data 4 : ['151', '\"Muscle Machine Inc\"', 'Young', 'Jeff', '2125557413', '\"4092 Furth Circle\"', '\"Suite 400\"', 'NYC', 'NY', '10022', 'USA', '1286', '138500\\n']\n",
      "Data 5 : ['157', '\"Diecast Classics Inc.\"', 'Leong', 'Kelvin', '2155551555', '\"7586 Pompton St.\"', 'NULL', 'Allentown', 'PA', '70267', 'USA', '1216', '100600\\n']\n",
      "Data 6 : ['161', '\"Technics Stores Inc.\"', 'Hashimoto', 'Juri', '6505556809', '\"9408 Furth Circle\"', 'NULL', 'Burlingame', 'CA', '94217', 'USA', '1165', '84600\\n']\n",
      "Data 7 : ['168', '\"American Souvenirs Inc\"', 'Franco', 'Keith', '2035557845', '\"149 Spinnaker Dr.\"', '\"Suite 101\"', '\"New Haven\"', 'CT', '97823', 'USA', '1286', '0\\n']\n",
      "Data 8 : ['173', '\"Cambridge Collectables Co.\"', 'Tseng', 'Jerry', '6175555555', '\"4658 Baden Av.\"', 'NULL', 'Cambridge', 'MA', '51247', 'USA', '1188', '43400\\n']\n",
      "Data 9 : ['175', '\"Gift Depot Inc.\"', 'King', 'Julie', '2035552570', '\"25593 South Bay Ln.\"', 'NULL', 'Bridgewater', 'CT', '97562', 'USA', '1323', '84300\\n']\n",
      "34\n"
     ]
    }
   ],
   "source": [
    "line_counter = 0            # 파일의 총 줄수를 세는 변수\n",
    "data_header = []            # data의 필드값을 저장하는 list\n",
    "employee = []\n",
    "customer_USA_only_list = []\n",
    "customer = None\n",
    "\n",
    "with open(\"customers.csv\") as customer_data:     # customer.csv 파일을 customer_data 객체에 저장\n",
    "    while 1:\n",
    "        data = customer_data.readline()          # customer.csv에 한줄씩 data 변수에 저장\n",
    "        if not data: break                      # 데이터가 없을 때, Loop 종료\n",
    "        if line_counter == 0:\n",
    "            data_header = data.split(\",\")        # 첫 번째 데이터인 데이터의 필드는 data_header List에 저장, 데이터 저장시 \",\"로 분리\n",
    "        else:\n",
    "            customer = data.split(\",\")\n",
    "            if customer[10].upper() == \"USA\":    # customer 데이터의 offset 10번째 값\n",
    "                customer_USA_only_list.append(customer)  # 즉 country 필드가 \"USA\"인 것만\n",
    "        line_counter += 1                        # customer_USA_only_list에 저장\n",
    "\n",
    "print(\"Header :\", data_header)                 # 데이터 필드 값 출력\n",
    "for i in range(0, 10):                          # 데이터 출력 (샘플 10개만)\n",
    "    print(\"Data\",i,\":\",customer_USA_only_list[i])\n",
    "print(len(customer_USA_only_list))              # 전체 데이터 크기 출력\n",
    "\n",
    "with open(\"customers_USA_only.csv\", \"w\") as customer_USA_only_csv:\n",
    "    customer_USA_only_csv.write(\",\".join(data_header).strip('\\n')+\"\\n\")\n",
    "    for customer in customer_USA_only_list:\n",
    "        customer_USA_only_csv.write(\",\".join(customer).strip('\\n')+\"\\n\")\n",
    "        # customer_USA_only_list 객체에 있는 데이터를 customers_USA_only.csv 파일에 쓰기"
   ]
  },
  {
   "cell_type": "markdown",
   "metadata": {},
   "source": [
    "### CSV 객체 활용"
   ]
  },
  {
   "cell_type": "code",
   "execution_count": null,
   "metadata": {},
   "outputs": [],
   "source": [
    "# 출처 : https://pymotw.com/2/csv/\n",
    "import csv\n",
    "\n",
    "reader = csv.reader(f,                        # 읽어들일 csv 파일 이름\n",
    "                    lineterminator = \"\\r\\n\",  # 줄바꿈 기준(default : \"\\r\\n\")\n",
    "                    delimiter = \",\",          # 글자를 나누는 기준(default : ,)\n",
    "                    quotechar = '\"',          # 문자열을 둘러싸는 신호 문자(default : \")\n",
    "                    quoting = csv.QUOTE_ALL)  # 데이터 나누는 기준이 quotechar에 의해 둘러싸인 레벨(default : QUOTE_MINIMAL)"
   ]
  },
  {
   "cell_type": "code",
   "execution_count": 18,
   "metadata": {},
   "outputs": [],
   "source": [
    "# 유동 인구 데이터 중 성남 데이터만 수집\n",
    "\n",
    "import csv\n",
    "seoung_nam_data = []\n",
    "header = []\n",
    "rownum = 0\n",
    "\n",
    "with open(\"korea_floating_population_data.csv\", \"r\", encoding=\"cp949\") as p_file:   # cp949는 윈도우용\n",
    "    csv_data = csv.reader(p_file)               # csv 객체를 이용해서 csv_data 읽기\n",
    "    for row in csv_data:                       # list값처럼 저장된 csv_data로 읽어온 데이터를 한 줄씩 처리\n",
    "        if rownum == 0:\n",
    "            header = row                       # 첫 번째 줄은 데이터 필드로 따로 저장\n",
    "        location = row[7]                      # '행정구역' 필드\n",
    "        # \"행정구역\" 필드 데이터 추출, 한글 처리로 유니코드 데이터를 cp949로 변환\n",
    "        if location.find(u\"성남시\") != -1:     # -1의 의미 = \"존재하지 않는다\"\n",
    "            seoung_nam_data.append(row)\n",
    "        # \"행정구역\" 데이터에 성남시가 들어가 있으면 seoung_nam_data List에 추가\n",
    "        rownum += 1\n",
    "\n",
    "with open(\"seoung_nam_floating_population_data.csv\", \"w\", encoding=\"cp949\") as s_p_file:\n",
    "    writer = csv.writer(s_p_file, delimiter=',', quotechar=\"'\",\n",
    "                        lineterminator=\"\\n\", quoting=csv.QUOTE_ALL)\n",
    "    # csv.writer를 사용해서 csv 파일 만들기 \n",
    "    # delimiter 필드 구분자, quotechar는 필드 각 데이터는 묶는 문자, quoting은 묶는 범위\n",
    "    writer.writerow(header)      # 제목 필드 파일에 쓰기\n",
    "    for row in seoung_nam_data:\n",
    "        writer.writerow(row)     # seoung_nam_data 에 있는 정보 list에 쓰기"
   ]
  },
  {
   "cell_type": "markdown",
   "metadata": {},
   "source": [
    "# 64강"
   ]
  },
  {
   "cell_type": "code",
   "execution_count": 8,
   "metadata": {},
   "outputs": [
    {
     "name": "stdout",
     "output_type": "stream",
     "text": [
      "Start Download\n",
      "End Download\n"
     ]
    }
   ],
   "source": [
    "import urllib.request   # urllib 모듈 호출\n",
    "\n",
    "url = \"http://storage.googleapis.com/patents/grant_full_text/2014/ipg140107.zip\"\n",
    "print(\"Start Download\")\n",
    "\n",
    "# urlretrieve 함수 호출(url 주소, 다운로드 될 파일명), 결과값으로 다운로드된 파일명과 Header 정보를 Unpacking\n",
    "# Header 안에는 자료와 관련된 정보들이 담겨 있음(ex. bytes, length, date 등)\n",
    "fname, header = urllib.request.urlretrieve(url, 'ipg140107.zip')   \n",
    "print(\"End Download\")"
   ]
  },
  {
   "cell_type": "markdown",
   "metadata": {},
   "source": [
    "# 66강"
   ]
  },
  {
   "cell_type": "code",
   "execution_count": 1,
   "metadata": {},
   "outputs": [
    {
     "name": "stdout",
     "output_type": "stream",
     "text": [
      "codo***\n",
      "outb7***\n",
      "dubba4***\n",
      "multicuspi***\n",
      "crownm***\n",
      "triformo***\n",
      "spania***\n",
      "magazin***\n",
      "presby***\n",
      "trophody***\n",
      "nontr***\n",
      "enranck***\n",
      "canc***\n",
      "uncanker***\n",
      "wrymo***\n",
      "non***\n",
      "luminat***\n",
      "oblig***\n",
      "anna***\n",
      "hyperth***\n",
      "toplabl***\n",
      "dolce0***\n",
      "rudals2***\n",
      "jjw980***\n",
      "elvlz***\n",
      "skmid***\n",
      "qkep***\n",
      "kisslov***\n",
      "maskman***\n",
      "sungt***\n"
     ]
    }
   ],
   "source": [
    "import re\n",
    "import urllib.request\n",
    "\n",
    "url = \"http://goo.gl/U7mSQl\"\n",
    "html = urllib.request.urlopen(url)\n",
    "html_contents = str(html.read())\n",
    "id_results = re.findall(r\"([A-Za-z0-9]+\\*\\*\\*)\", html_contents)    # findall : 전체 찾기, 패턴대로 데이터 찾기\n",
    "\n",
    "for result in id_results:\n",
    "    print(result)"
   ]
  },
  {
   "cell_type": "code",
   "execution_count": 14,
   "metadata": {},
   "outputs": [
    {
     "name": "stdout",
     "output_type": "stream",
     "text": [
      "http://storage.googleapis.com/patents/grant_full_text/2015/ipg150106.zip\n",
      "http://storage.googleapis.com/patents/grant_full_text/2015/ipg150113.zip\n",
      "http://storage.googleapis.com/patents/grant_full_text/2015/ipg150120.zip\n",
      "http://storage.googleapis.com/patents/grant_full_text/2015/ipg150127.zip\n",
      "http://storage.googleapis.com/patents/grant_full_text/2015/ipg150203.zip\n",
      "http://storage.googleapis.com/patents/grant_full_text/2015/ipg150210.zip\n",
      "http://storage.googleapis.com/patents/grant_full_text/2015/ipg150217.zip\n",
      "http://storage.googleapis.com/patents/grant_full_text/2015/ipg150224.zip\n",
      "http://storage.googleapis.com/patents/grant_full_text/2015/ipg150303.zip\n",
      "http://storage.googleapis.com/patents/grant_full_text/2015/ipg150310.zip\n"
     ]
    }
   ],
   "source": [
    "import re\n",
    "import urllib.request   # urllib 모듈 호출\n",
    "\n",
    "url = \"http://www.google.com/googlebooks/uspto-patents-grants-text.html\"    # url 값 입력\n",
    "html = urllib.request.urlopen(url)                                          # url 열기\n",
    "html_contents = str(html.read().decode('utf8'))                             # html 파일 읽고, 문자열로 반환\n",
    "\n",
    "url_list = re.findall(r\"(http)(.+)(zip)\", html_contents)     # Tuple 형태로 출력됨\n",
    "i = 0\n",
    "for url in url_list:\n",
    "    if i < 10:\n",
    "        print(\"\".join(url))            # 출력된 Tuple 형태 데이터 str으로 join\n",
    "    i += 1"
   ]
  },
  {
   "cell_type": "code",
   "execution_count": 5,
   "metadata": {},
   "outputs": [
    {
     "name": "stdout",
     "output_type": "stream",
     "text": [
      "2021년 03월 02일 16시 10분 기준 장마감\n",
      "종목명 삼성전자\n",
      "종목코드 005930 코스피\n",
      "현재가 83,600 전일대비 상승 1,100 플러스 1.33 퍼센트\n",
      "전일가 82,500\n",
      "시가 85,100\n",
      "고가 85,300\n",
      "상한가 107,000\n",
      "저가 83,000\n",
      "하한가 57,800\n",
      "거래량 32,850,356\n",
      "거래대금 2,769,192백만\n"
     ]
    }
   ],
   "source": [
    "import re\n",
    "import urllib.request   # urllib 모듈 호출\n",
    "\n",
    "url = \"http://finance.naver.com/item/main.nhn?code=005930\"    # url 값 입력\n",
    "html = urllib.request.urlopen(url)                            # url 열기\n",
    "html_contents = str(html.read().decode('ms949'))              # html 파일 읽고, 문자열로 반환\n",
    "\n",
    "stock_results = re.findall(\"(\\<dl class=\\\"blind\\\"\\>)([\\s\\S]+?)(\\<\\/dl\\>)\", html_contents)\n",
    "samsung_stock = stock_results[0]           # 두 개 tuple 값 중 첫번째 패턴\n",
    "samsung_index = samsung_stock[1]           # 세 개의 tuple 값 중 두번째 패턴\n",
    "index_list = re.findall(\"(\\<dd\\>)([\\s\\S]+?)(\\<\\/dd\\>)\", samsung_index)\n",
    "\n",
    "for index in index_list:\n",
    "    print(index[1])        # 세 개의 tuple 값 중 두번째 값"
   ]
  },
  {
   "cell_type": "code",
   "execution_count": null,
   "metadata": {},
   "outputs": [],
   "source": []
  }
 ],
 "metadata": {
  "kernelspec": {
   "display_name": "Python 3",
   "language": "python",
   "name": "python3"
  },
  "language_info": {
   "codemirror_mode": {
    "name": "ipython",
    "version": 3
   },
   "file_extension": ".py",
   "mimetype": "text/x-python",
   "name": "python",
   "nbconvert_exporter": "python",
   "pygments_lexer": "ipython3",
   "version": "3.7.4"
  }
 },
 "nbformat": 4,
 "nbformat_minor": 4
}
