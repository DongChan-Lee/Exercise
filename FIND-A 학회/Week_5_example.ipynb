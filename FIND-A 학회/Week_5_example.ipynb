{
 "cells": [
  {
   "cell_type": "code",
   "execution_count": null,
   "metadata": {},
   "outputs": [],
   "source": [
    "# 1번 ['abbbbba', 'cddb', 'aerb', 'aeeeb', 'almnj'] (모두 문자열)일 때 1, 3번째만 리턴하는 정규표현식을 작성하시오\n",
    "\n",
    "import re\n",
    "\n",
    "list_a = ['abbbbba', 'cddb', 'aerb', 'aeeeb', 'almnj']\n",
    "p = re.compile('a..b')\n",
    "\n",
    "for i in list_a:\n",
    "    print(p.match(i))"
   ]
  },
  {
   "cell_type": "code",
   "execution_count": null,
   "metadata": {},
   "outputs": [],
   "source": [
    "# 2번\n",
    "\n",
    "f = open('url.txt', 'r')\n",
    "text = f.readlines()\n",
    "naver = []\n",
    "tistory = []\n",
    "blogme= []\n",
    "\n",
    "for t in text:\n",
    "    url = t.split('/')[2]\n",
    "    char = url.split('.',1)[1]\n",
    "    if char == 'naver.com':\n",
    "        naver.append(url)\n",
    "    elif char == 'tistory.com':\n",
    "        tistory.append(url)\n",
    "    elif char == 'blog.me':\n",
    "        blogme.append(url)\n",
    "\n",
    "print('{} 의 갯수는 모두 {} 개입니다'.format((naver[0]), len(naver)))\n",
    "print('{} 의 갯수는 모두 {} 개입니다'.format((tistory[0]), len(tistory)))\n",
    "print('{} 의 갯수는 모두 {} 개입니다'.format((blogme[0]), len(blogme)))"
   ]
  }
 ],
 "metadata": {
  "kernelspec": {
   "display_name": "Python 3",
   "language": "python",
   "name": "python3"
  },
  "language_info": {
   "codemirror_mode": {
    "name": "ipython",
    "version": 3
   },
   "file_extension": ".py",
   "mimetype": "text/x-python",
   "name": "python",
   "nbconvert_exporter": "python",
   "pygments_lexer": "ipython3",
   "version": "3.7.4"
  }
 },
 "nbformat": 4,
 "nbformat_minor": 4
}
